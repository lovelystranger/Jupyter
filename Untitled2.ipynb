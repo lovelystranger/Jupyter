{
 "cells": [
  {
   "cell_type": "markdown",
   "metadata": {},
   "source": [
    "# p4_1.py"
   ]
  },
  {
   "cell_type": "code",
   "execution_count": 5,
   "metadata": {},
   "outputs": [
    {
     "name": "stdout",
     "output_type": "stream",
     "text": [
      "请输入一个分数:99\n",
      "A\n"
     ]
    }
   ],
   "source": [
    "score = int(input('请输入一个分数:'))\n",
    "if 100 >= score >= 90:\n",
    "    print('A')\n",
    "elif 90 > score >= 80:\n",
    "        print('B')\n",
    "elif 80 > score >= 60:\n",
    "        print('C')\n",
    "elif 80 > score >= 0:\n",
    "        print('D')\n",
    "else:\n",
    "        print('输入错误！')"
   ]
  },
  {
   "cell_type": "markdown",
   "metadata": {},
   "source": [
    "# 三元操作符"
   ]
  },
  {
   "cell_type": "code",
   "execution_count": 6,
   "metadata": {},
   "outputs": [
    {
     "name": "stdout",
     "output_type": "stream",
     "text": [
      "请输入x的值：5\n",
      "请输入y的值：6\n",
      "5\n"
     ]
    }
   ],
   "source": [
    "x = int(input('请输入x的值：'))\n",
    "y = int(input('请输入y的值：'))\n",
    "small = x if x < y else y\n",
    "print(small)"
   ]
  },
  {
   "cell_type": "markdown",
   "metadata": {},
   "source": [
    "# for循环"
   ]
  },
  {
   "cell_type": "code",
   "execution_count": 7,
   "metadata": {},
   "outputs": [
    {
     "name": "stdout",
     "output_type": "stream",
     "text": [
      "FishC"
     ]
    }
   ],
   "source": [
    "favorite = 'FishC'\n",
    "for each in favorite:\n",
    "    print(each,end = '')"
   ]
  },
  {
   "cell_type": "markdown",
   "metadata": {},
   "source": [
    "# 传递一个参数的range"
   ]
  },
  {
   "cell_type": "code",
   "execution_count": 9,
   "metadata": {},
   "outputs": [
    {
     "name": "stdout",
     "output_type": "stream",
     "text": [
      "0\n",
      "1\n",
      "2\n",
      "3\n",
      "4\n"
     ]
    }
   ],
   "source": [
    "for i in range(5):\n",
    "    print(i)"
   ]
  },
  {
   "cell_type": "markdown",
   "metadata": {},
   "source": [
    "# 传递两个参数的range\n"
   ]
  },
  {
   "cell_type": "code",
   "execution_count": 10,
   "metadata": {},
   "outputs": [
    {
     "name": "stdout",
     "output_type": "stream",
     "text": [
      "2\n",
      "3\n",
      "4\n",
      "5\n",
      "6\n",
      "7\n",
      "8\n"
     ]
    }
   ],
   "source": [
    "for i in range(2,9):\n",
    "    print(i)"
   ]
  },
  {
   "cell_type": "markdown",
   "metadata": {},
   "source": [
    "# 传递3个参数的range"
   ]
  },
  {
   "cell_type": "code",
   "execution_count": 11,
   "metadata": {},
   "outputs": [
    {
     "name": "stdout",
     "output_type": "stream",
     "text": [
      "1\n",
      "3\n",
      "5\n",
      "7\n",
      "9\n"
     ]
    }
   ],
   "source": [
    "for i in range(1,10,2):\n",
    "    print(i)"
   ]
  },
  {
   "cell_type": "markdown",
   "metadata": {},
   "source": [
    "# p4_2.py"
   ]
  },
  {
   "cell_type": "code",
   "execution_count": 13,
   "metadata": {},
   "outputs": [
    {
     "name": "stdout",
     "output_type": "stream",
     "text": [
      "请输入小甲鱼最想听的一句话：I love 春梅\n",
      "抱歉，错了，请重新输入（答案正确才能退出游戏）：I really love 春梅！\n",
      "抱歉，错了，请重新输入（答案正确才能退出游戏）：春梅 love me\n",
      "抱歉，错了，请重新输入（答案正确才能退出游戏）：I fall in love with 春梅！\n",
      "抱歉，错了，请重新输入（答案正确才能退出游戏）：小甲鱼是帅哥\n",
      "哎哟，帅哦～\n",
      "您真是小甲鱼肚子里的蛔虫呢！\n"
     ]
    }
   ],
   "source": [
    "bingo = '小甲鱼是帅哥'\n",
    "answer = input('请输入小甲鱼最想听的一句话：')\n",
    "while True:\n",
    "    if answer == bingo:\n",
    "        break\n",
    "    answer = input('抱歉，错了，请重新输入（答案正确才能退出游戏）：')\n",
    "print('哎哟，帅哦～')\n",
    "print('您真是小甲鱼肚子里的蛔虫呢！')"
   ]
  },
  {
   "cell_type": "markdown",
   "metadata": {},
   "source": [
    "# p4_3.py"
   ]
  },
  {
   "cell_type": "code",
   "execution_count": 15,
   "metadata": {},
   "outputs": [
    {
     "name": "stdout",
     "output_type": "stream",
     "text": [
      "1\n",
      "3\n",
      "5\n",
      "7\n",
      "9\n",
      "9\n"
     ]
    }
   ],
   "source": [
    "for i in range(10):\n",
    "    if i%2 != 0:\n",
    "        print(i)\n",
    "        continue\n",
    "    i += 2\n",
    "print(i)"
   ]
  },
  {
   "cell_type": "code",
   "execution_count": 16,
   "metadata": {},
   "outputs": [
    {
     "name": "stdout",
     "output_type": "stream",
     "text": [
      "0\n",
      "2\n",
      "1\n",
      "1\n",
      "2\n",
      "4\n",
      "3\n",
      "3\n",
      "4\n",
      "6\n",
      "5\n",
      "5\n",
      "6\n",
      "8\n",
      "7\n",
      "7\n",
      "8\n",
      "10\n",
      "9\n",
      "9\n",
      "9\n"
     ]
    }
   ],
   "source": [
    "for i in range(10):\n",
    "    print(i)\n",
    "    if i%2 != 0:\n",
    "        print(i)\n",
    "        continue\n",
    "    i += 2\n",
    "    print(i)\n",
    "print(i)\n"
   ]
  },
  {
   "cell_type": "markdown",
   "metadata": {
    "collapsed": true
   },
   "source": [
    "# 向列表添加元素"
   ]
  },
  {
   "cell_type": "code",
   "execution_count": 2,
   "metadata": {},
   "outputs": [
    {
     "name": "stdout",
     "output_type": "stream",
     "text": [
      "[1, 2, 3, 4, 5, 6]\n"
     ]
    }
   ],
   "source": [
    "number = [1,2,3,4,5]\n",
    "number.append(6)\n",
    "print(number)"
   ]
  },
  {
   "cell_type": "code",
   "execution_count": 3,
   "metadata": {},
   "outputs": [
    {
     "name": "stdout",
     "output_type": "stream",
     "text": [
      "[1, 2, 3, 4, 5]\n"
     ]
    }
   ],
   "source": [
    "number = [1,2,3]\n",
    "number.extend([4,5])\n",
    "print(number)"
   ]
  },
  {
   "cell_type": "code",
   "execution_count": 4,
   "metadata": {},
   "outputs": [
    {
     "name": "stdout",
     "output_type": "stream",
     "text": [
      "[1, 0, 2, 3, 4, 5]\n"
     ]
    }
   ],
   "source": [
    "number = [1,2,3,4,5]\n",
    "number.insert(1,0)\n",
    "print(number)"
   ]
  },
  {
   "cell_type": "code",
   "execution_count": 5,
   "metadata": {},
   "outputs": [
    {
     "name": "stdout",
     "output_type": "stream",
     "text": [
      "[0, 1, 2, 3, 4, 5]\n"
     ]
    }
   ],
   "source": [
    "number = [1,2,3,4,5]\n",
    "number.insert(0,0)\n",
    "print(number)"
   ]
  },
  {
   "cell_type": "markdown",
   "metadata": {},
   "source": [
    "# 从列表中获取元素\n"
   ]
  },
  {
   "cell_type": "code",
   "execution_count": 11,
   "metadata": {},
   "outputs": [
    {
     "name": "stdout",
     "output_type": "stream",
     "text": [
      "鸡蛋\n",
      "李狗蛋\n",
      "['鸡蛋', '李狗蛋', '鹅蛋', '鸭蛋']\n"
     ]
    }
   ],
   "source": [
    "name = ['鸡蛋','鸭蛋','鹅蛋','李狗蛋']\n",
    "print(name[0])\n",
    "print(name[3])\n",
    "name[1],name[3] = name[3],name[1]\n",
    "print(name)"
   ]
  },
  {
   "cell_type": "markdown",
   "metadata": {},
   "source": [
    "# 从列表中删除元素"
   ]
  },
  {
   "cell_type": "code",
   "execution_count": 14,
   "metadata": {},
   "outputs": [
    {
     "data": {
      "text/plain": [
       "['鸡蛋', '鸭蛋', '鹅蛋']"
      ]
     },
     "execution_count": 14,
     "metadata": {},
     "output_type": "execute_result"
    }
   ],
   "source": [
    "name = ['鸡蛋','鸭蛋','鹅蛋','李狗蛋']\n",
    "name.remove(\"李狗蛋\")\n",
    "name"
   ]
  },
  {
   "cell_type": "code",
   "execution_count": 13,
   "metadata": {},
   "outputs": [
    {
     "data": {
      "text/plain": [
       "['鸡蛋', '鹅蛋', '李狗蛋']"
      ]
     },
     "execution_count": 13,
     "metadata": {},
     "output_type": "execute_result"
    }
   ],
   "source": [
    "name = ['鸡蛋','鸭蛋','鹅蛋','李狗蛋']\n",
    "del name[1]\n",
    "name"
   ]
  },
  {
   "cell_type": "code",
   "execution_count": 15,
   "metadata": {},
   "outputs": [
    {
     "data": {
      "text/plain": [
       "'李狗蛋'"
      ]
     },
     "execution_count": 15,
     "metadata": {},
     "output_type": "execute_result"
    }
   ],
   "source": [
    "name = ['鸡蛋','鸭蛋','鹅蛋','李狗蛋']\n",
    "name.pop()"
   ]
  },
  {
   "cell_type": "code",
   "execution_count": 18,
   "metadata": {},
   "outputs": [
    {
     "data": {
      "text/plain": [
       "['鸡蛋', '鸭蛋']"
      ]
     },
     "execution_count": 18,
     "metadata": {},
     "output_type": "execute_result"
    }
   ],
   "source": [
    "name = ['鸡蛋','鸭蛋','鹅蛋']\n",
    "name.pop()\n",
    "name"
   ]
  },
  {
   "cell_type": "code",
   "execution_count": 19,
   "metadata": {},
   "outputs": [
    {
     "data": {
      "text/plain": [
       "'鹅蛋'"
      ]
     },
     "execution_count": 19,
     "metadata": {},
     "output_type": "execute_result"
    }
   ],
   "source": [
    "name = ['鸡蛋','鸭蛋','鹅蛋','李狗蛋']\n",
    "name.pop(2)"
   ]
  },
  {
   "cell_type": "markdown",
   "metadata": {},
   "source": [
    "# 列表分片"
   ]
  },
  {
   "cell_type": "code",
   "execution_count": 20,
   "metadata": {},
   "outputs": [
    {
     "data": {
      "text/plain": [
       "['鸡蛋', '鸭蛋']"
      ]
     },
     "execution_count": 20,
     "metadata": {},
     "output_type": "execute_result"
    }
   ],
   "source": [
    "name = ['鸡蛋','鸭蛋','鹅蛋','李狗蛋']\n",
    "name[0:2]"
   ]
  },
  {
   "cell_type": "code",
   "execution_count": 21,
   "metadata": {},
   "outputs": [
    {
     "data": {
      "text/plain": [
       "['鸡蛋', '鸭蛋']"
      ]
     },
     "execution_count": 21,
     "metadata": {},
     "output_type": "execute_result"
    }
   ],
   "source": [
    "name = ['鸡蛋','鸭蛋','鹅蛋','李狗蛋']\n",
    "name[:2]"
   ]
  },
  {
   "cell_type": "code",
   "execution_count": 23,
   "metadata": {},
   "outputs": [
    {
     "data": {
      "text/plain": [
       "['鸭蛋', '鹅蛋', '李狗蛋']"
      ]
     },
     "execution_count": 23,
     "metadata": {},
     "output_type": "execute_result"
    }
   ],
   "source": [
    "name = ['鸡蛋','鸭蛋','鹅蛋','李狗蛋']\n",
    "name[1:]"
   ]
  },
  {
   "cell_type": "code",
   "execution_count": 24,
   "metadata": {},
   "outputs": [
    {
     "data": {
      "text/plain": [
       "['鸡蛋', '鸭蛋', '鹅蛋', '李狗蛋']"
      ]
     },
     "execution_count": 24,
     "metadata": {},
     "output_type": "execute_result"
    }
   ],
   "source": [
    "name = ['鸡蛋','鸭蛋','鹅蛋','李狗蛋']\n",
    "name[:]"
   ]
  },
  {
   "cell_type": "code",
   "execution_count": null,
   "metadata": {
    "collapsed": true
   },
   "outputs": [],
   "source": []
  }
 ],
 "metadata": {
  "kernelspec": {
   "display_name": "Python 3",
   "language": "python",
   "name": "python3"
  },
  "language_info": {
   "codemirror_mode": {
    "name": "ipython",
    "version": 3
   },
   "file_extension": ".py",
   "mimetype": "text/x-python",
   "name": "python",
   "nbconvert_exporter": "python",
   "pygments_lexer": "ipython3",
   "version": "3.6.3"
  }
 },
 "nbformat": 4,
 "nbformat_minor": 2
}
