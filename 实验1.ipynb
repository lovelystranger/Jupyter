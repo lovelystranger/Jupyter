{
 "cells": [
  {
   "cell_type": "markdown",
   "metadata": {},
   "source": [
    "# 爬虫1"
   ]
  },
  {
   "cell_type": "code",
   "execution_count": 1,
   "metadata": {},
   "outputs": [
    {
     "name": "stdout",
     "output_type": "stream",
     "text": [
      "电影名称： ['肖申克的救赎 The Shawshank Redemption']\n",
      "导演： ['弗兰克·德拉邦特']\n",
      "主演： ['蒂姆·罗宾斯', '摩根·弗里曼', '鲍勃·冈顿', '威廉姆·赛德勒', '克兰西·布朗', '吉尔·贝罗斯', '马克·罗斯顿', '詹姆斯·惠特摩', '杰弗里·德曼', '拉里·布兰登伯格', '尼尔·吉恩托利', '布赖恩·利比', '大卫·普罗瓦尔', '约瑟夫·劳格诺', '祖德·塞克利拉', '保罗·麦克兰尼', '芮妮·布莱恩', '阿方索·弗里曼', 'V·J·福斯特', '弗兰克·梅德拉诺', '马克·迈尔斯', '尼尔·萨默斯', '耐德·巴拉米', '布赖恩·戴拉特', '唐·麦克马纳斯']\n",
      "片长： ['142分钟']\n"
     ]
    }
   ],
   "source": [
    "import requests\n",
    "from lxml import etree\n",
    "\n",
    "url = 'https://movie.douban.com/subject/1292052/'\n",
    "data = requests.get(url).text\n",
    "s=etree.HTML(data)\n",
    "\n",
    "film=s.xpath('//*[@id=\"content\"]/h1/span[1]/text()')\n",
    "director=s.xpath('//*[@id=\"info\"]/span[1]/span[2]/a/text()')\n",
    "actor=s.xpath('//*[@id=\"info\"]/span[3]/span[2]/a/text()')\n",
    "time=s.xpath('//*[@id=\"info\"]/span[13]/text()')\n",
    "\n",
    "print('电影名称：',film)\n",
    "print('导演：',director)\n",
    "print('主演：',actor)\n",
    "print('片长：',time)"
   ]
  },
  {
   "cell_type": "code",
   "execution_count": 2,
   "metadata": {
    "collapsed": true
   },
   "outputs": [],
   "source": [
    "a='one way of writing a string'\n",
    "b=\"another way\"\n",
    "c=\"\"\"\n",
    "This is a longer string that spans multiple lines\n",
    "\"\"\""
   ]
  },
  {
   "cell_type": "code",
   "execution_count": 3,
   "metadata": {},
   "outputs": [
    {
     "name": "stdout",
     "output_type": "stream",
     "text": [
      "var1[0]: H\n",
      "var2[1:5]: ytho\n"
     ]
    }
   ],
   "source": [
    "var1 = 'Hello World!'\n",
    "var2 = \"Python Runoob\"\n",
    "\n",
    "print(\"var1[0]:\",var1[0])\n",
    "print(\"var2[1:5]:\",var2[1:5])"
   ]
  },
  {
   "cell_type": "code",
   "execution_count": 4,
   "metadata": {},
   "outputs": [
    {
     "data": {
      "text/plain": [
       "'This is a long string'"
      ]
     },
     "execution_count": 4,
     "metadata": {},
     "output_type": "execute_result"
    }
   ],
   "source": [
    "a = 'This is a string'\n",
    "b = a.replace('string','long string')\n",
    "b"
   ]
  },
  {
   "cell_type": "code",
   "execution_count": 5,
   "metadata": {},
   "outputs": [
    {
     "data": {
      "text/plain": [
       "'56'"
      ]
     },
     "execution_count": 5,
     "metadata": {},
     "output_type": "execute_result"
    }
   ],
   "source": [
    "a = 56\n",
    "s = str(a)\n",
    "s"
   ]
  },
  {
   "cell_type": "code",
   "execution_count": 6,
   "metadata": {},
   "outputs": [
    {
     "data": {
      "text/plain": [
       "['p', 'y', 't', 'h', 'o', 'n']"
      ]
     },
     "execution_count": 6,
     "metadata": {},
     "output_type": "execute_result"
    }
   ],
   "source": [
    "s = 'python'\n",
    "list(s)"
   ]
  },
  {
   "cell_type": "code",
   "execution_count": 9,
   "metadata": {},
   "outputs": [
    {
     "name": "stdout",
     "output_type": "stream",
     "text": [
      "tup1[0] physics\n",
      "tup2[1:5] (2, 3, 4, 5)\n"
     ]
    }
   ],
   "source": [
    "tup1 = ('physics','chemistry',1997,2000)\n",
    "tup2 = (1,2,3,4,5)\n",
    "tup3 = 'a','b','c','d'\n",
    "print(\"tup1[0]\",tup1[0])\n",
    "print(\"tup2[1:5]\",tup2[1:5])"
   ]
  },
  {
   "cell_type": "code",
   "execution_count": 10,
   "metadata": {},
   "outputs": [
    {
     "name": "stdout",
     "output_type": "stream",
     "text": [
      "(12, 34.56, 'abc', 'xyz')\n"
     ]
    }
   ],
   "source": [
    "tup1 = (12,34.56)\n",
    "tup2 = ('abc','xyz')\n",
    "#以下修改元祖元素操作是非法的\n",
    "#tup1[0] = 100\n",
    "#创建一个新的元祖\n",
    "tup3 = tup1+tup2\n",
    "print(tup3)"
   ]
  },
  {
   "cell_type": "code",
   "execution_count": 11,
   "metadata": {},
   "outputs": [
    {
     "data": {
      "text/plain": [
       "3"
      ]
     },
     "execution_count": 11,
     "metadata": {},
     "output_type": "execute_result"
    }
   ],
   "source": [
    "len((1,2,3))"
   ]
  },
  {
   "cell_type": "code",
   "execution_count": 15,
   "metadata": {},
   "outputs": [
    {
     "data": {
      "text/plain": [
       "(1, 2, 3, 4, 5, 6)"
      ]
     },
     "execution_count": 15,
     "metadata": {},
     "output_type": "execute_result"
    }
   ],
   "source": [
    "(1,2,3)+(4,5,6)"
   ]
  },
  {
   "cell_type": "code",
   "execution_count": 18,
   "metadata": {},
   "outputs": [
    {
     "data": {
      "text/plain": [
       "('Spam', 'SPAM!')"
      ]
     },
     "execution_count": 18,
     "metadata": {},
     "output_type": "execute_result"
    }
   ],
   "source": [
    "L = ('spam','Spam','SPAM!')\n",
    "L[2]\n",
    "L[-2]\n",
    "L[1:]"
   ]
  },
  {
   "cell_type": "code",
   "execution_count": 19,
   "metadata": {},
   "outputs": [
    {
     "data": {
      "text/plain": [
       "5"
      ]
     },
     "execution_count": 19,
     "metadata": {},
     "output_type": "execute_result"
    }
   ],
   "source": [
    "tup1 = ('a',1,'cd','kind',54)\n",
    "len(tup1)\n"
   ]
  },
  {
   "cell_type": "code",
   "execution_count": 36,
   "metadata": {},
   "outputs": [
    {
     "data": {
      "text/plain": [
       "['foo', 'peekaboo', 'baz']"
      ]
     },
     "execution_count": 36,
     "metadata": {},
     "output_type": "execute_result"
    }
   ],
   "source": [
    "a_list = [2,3,7,None]\n",
    "tup = ('foo','bar','baz')\n",
    "b_list = list(tup)\n",
    "b_list[1] = 'peekaboo'\n",
    "b_list"
   ]
  },
  {
   "cell_type": "code",
   "execution_count": 40,
   "metadata": {},
   "outputs": [
    {
     "name": "stdout",
     "output_type": "stream",
     "text": [
      "list1[0]: Google\n",
      "list2[1:5]: [2, 3, 4, 5]\n"
     ]
    }
   ],
   "source": [
    "list1 = ['Google','Runoob',1997,2000]\n",
    "list2 = [1,2,3,4,5,6,7]\n",
    "\n",
    "print(\"list1[0]:\",list1[0])\n",
    "print(\"list2[1:5]:\",list2[1:5])"
   ]
  },
  {
   "cell_type": "code",
   "execution_count": 44,
   "metadata": {},
   "outputs": [
    {
     "name": "stdout",
     "output_type": "stream",
     "text": [
      "第三个元素为: 1997\n",
      "更新后的第三个元素为: 2001\n"
     ]
    }
   ],
   "source": [
    "list = ['Google','Runoob',1997,2000]\n",
    "print(\"第三个元素为:\",list[2])\n",
    "list[2] = 2001\n",
    "print(\"更新后的第三个元素为:\",list[2])"
   ]
  },
  {
   "cell_type": "code",
   "execution_count": 46,
   "metadata": {},
   "outputs": [
    {
     "name": "stdout",
     "output_type": "stream",
     "text": [
      "['google', 'runoob', 1997, 2000]\n",
      "删除第三个元素： ['google', 'runoob', 2000]\n"
     ]
    }
   ],
   "source": [
    "list = ['google','runoob',1997,2000]\n",
    "print(list)\n",
    "del list[2]\n",
    "print(\"删除第三个元素：\",list)"
   ]
  },
  {
   "cell_type": "code",
   "execution_count": 47,
   "metadata": {},
   "outputs": [
    {
     "data": {
      "text/plain": [
       "True"
      ]
     },
     "execution_count": 47,
     "metadata": {},
     "output_type": "execute_result"
    }
   ],
   "source": [
    "list1 = ['Google','Runoob',1997,2000]\n",
    "'Runoob'in list1"
   ]
  },
  {
   "cell_type": "code",
   "execution_count": 50,
   "metadata": {},
   "outputs": [],
   "source": [
    "dict = {'Name':'Runoob','Age':7,'Class':'First'}\n",
    "del dict['Name']\n",
    "dict.clear()  \n",
    "del dict"
   ]
  },
  {
   "cell_type": "code",
   "execution_count": 65,
   "metadata": {},
   "outputs": [
    {
     "name": "stdout",
     "output_type": "stream",
     "text": [
      "请输入你家狗狗的年龄：3\n",
      "\n",
      "对应人类年龄： 27\n",
      "点击enter键退出enter\n"
     ]
    },
    {
     "data": {
      "text/plain": [
       "'enter'"
      ]
     },
     "execution_count": 65,
     "metadata": {},
     "output_type": "execute_result"
    }
   ],
   "source": [
    "age = int(input(\"请输入你家狗狗的年龄：\"))\n",
    "print(\"\")\n",
    "if age<0:\n",
    "    print(\"你是在逗我吧！\")\n",
    "elif age==1:\n",
    "    print(\"相当于14岁的人。\")\n",
    "elif age == 2:\n",
    "    print(\"相当于22岁的人。\")\n",
    "elif age >2: \n",
    "    human = 22+(age-2)*5\n",
    "    print(\"对应人类年龄：\",human)\n",
    "###退出提示\n",
    "input(\"点击enter键退出\")"
   ]
  },
  {
   "cell_type": "code",
   "execution_count": 66,
   "metadata": {},
   "outputs": [
    {
     "name": "stdout",
     "output_type": "stream",
     "text": [
      "输入一个数字：12\n",
      "你输入的数字可以整除2和3\n"
     ]
    }
   ],
   "source": [
    "num=int(input(\"输入一个数字：\"))\n",
    "if num%2==0:\n",
    "    if num%3==0:\n",
    "        print(\"你输入的数字可以整除2和3\")\n",
    "    else:\n",
    "        print(\"你输入的数字可以整除2，但不能整除3\")\n",
    "else:\n",
    "    if num%3==0:\n",
    "        print(\"你输入的数字可以整除3，但不能整除2\")\n",
    "    else:\n",
    "        print(\"你输入的数字可以整除2和3\")"
   ]
  },
  {
   "cell_type": "code",
   "execution_count": 68,
   "metadata": {},
   "outputs": [
    {
     "name": "stdout",
     "output_type": "stream",
     "text": [
      "1到100之和为：5050\n"
     ]
    }
   ],
   "source": [
    "n = 100\n",
    "\n",
    "sum = 0\n",
    "counter = 1\n",
    "while counter<=n:\n",
    "    sum = sum+counter\n",
    "    counter +=1\n",
    "print(\"1到%d之和为：%d\"%(n,sum))"
   ]
  },
  {
   "cell_type": "code",
   "execution_count": 71,
   "metadata": {},
   "outputs": [
    {
     "name": "stdout",
     "output_type": "stream",
     "text": [
      "0 小于5\n",
      "1 小于5\n",
      "2 小于5\n",
      "3 小于5\n",
      "4 小于5\n",
      "5 大于或等于5\n"
     ]
    }
   ],
   "source": [
    "count = 0\n",
    "while count<5:\n",
    "    print(count,\"小于5\")\n",
    "    count = count + 1\n",
    "else:\n",
    "    print(count,\"大于或等于5\")"
   ]
  },
  {
   "cell_type": "code",
   "execution_count": 72,
   "metadata": {},
   "outputs": [
    {
     "name": "stdout",
     "output_type": "stream",
     "text": [
      "循环数据Baidu\n",
      "循环数据Google\n",
      "数据城堡！\n",
      "完成循环！\n"
     ]
    }
   ],
   "source": [
    "sites = [\"Baidu\",\"Google\",\"Runoob\",\"Taobao\"]\n",
    "for site in sites:\n",
    "    if site == \"Runoob\":\n",
    "        print(\"数据城堡！\")\n",
    "        break\n",
    "    print(\"循环数据\"+site)\n",
    "else:\n",
    "    print(\"没有循环数据！\")\n",
    "print(\"完成循环！\")"
   ]
  },
  {
   "cell_type": "code",
   "execution_count": 75,
   "metadata": {},
   "outputs": [
    {
     "name": "stdout",
     "output_type": "stream",
     "text": [
      "当前字母： R\n",
      "当前字母： u\n",
      "当前字母： n\n",
      "当前字母： n\n",
      "当前字母： b\n",
      "当前变量值： 9\n",
      "当前变量值： 8\n",
      "当前变量值： 7\n",
      "当前变量值： 6\n",
      "当前变量值： 4\n",
      "当前变量值： 3\n",
      "当前变量值： 2\n",
      "当前变量值： 1\n",
      "当前变量值： 0\n",
      "Good Bye!\n"
     ]
    }
   ],
   "source": [
    "for letter in'Runnoob':\n",
    "    if letter == 'o':\n",
    "        continue\n",
    "    print('当前字母：',letter)\n",
    "    \n",
    "var = 10\n",
    "while var>0:\n",
    "    var = var - 1\n",
    "    if var == 5:\n",
    "        continue\n",
    "    print('当前变量值：',var)\n",
    "print(\"Good Bye!\")"
   ]
  },
  {
   "cell_type": "code",
   "execution_count": null,
   "metadata": {
    "collapsed": true
   },
   "outputs": [],
   "source": []
  }
 ],
 "metadata": {
  "kernelspec": {
   "display_name": "Python 3",
   "language": "python",
   "name": "python3"
  },
  "language_info": {
   "codemirror_mode": {
    "name": "ipython",
    "version": 3
   },
   "file_extension": ".py",
   "mimetype": "text/x-python",
   "name": "python",
   "nbconvert_exporter": "python",
   "pygments_lexer": "ipython3",
   "version": "3.6.3"
  }
 },
 "nbformat": 4,
 "nbformat_minor": 2
}
