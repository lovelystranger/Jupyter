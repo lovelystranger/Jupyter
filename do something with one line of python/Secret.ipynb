{
 "cells": [
  {
   "cell_type": "code",
   "execution_count": 25,
   "metadata": {},
   "outputs": [
    {
     "name": "stdout",
     "output_type": "stream",
     "text": [
      "                                                            \n",
      "                                                            \n",
      "            hunchun                       nchunch           \n",
      "       hunchunchunchunchu           unchunchunchunchun      \n",
      "    nchunchunchunchunchunchun   nchunchunchunchunchunchun   \n",
      "   nchunchunchunchunchunchunchunchunchunchunchunchunchunch  \n",
      "  nchunchunchunchunchunchunchunchunchunchunchunchunchunchun \n",
      " nchunchunchunchunchunchunchunchunchunchunchunchunchunchunch\n",
      " chunchunchunchunchunchunchunchunchunchunchunchunchunchunchu\n",
      " hunchunchunchunchunchunchunchunchunchunchunchunchunchunchun\n",
      " unchunchunchunchunchunchunchunchunchunchunchunchunchunchunc\n",
      " nchunchunchunchunchunchunchunchunchunchunchunchunchunchunch\n",
      "  hunchunchunchunchunchunchunchunchunchunchunchunchunchunch \n",
      "   nchunchunchunchunchunchunchunchunchunchunchunchunchunch  \n",
      "    hunchunchunchunchunchunchunchunchunchunchunchunchunch   \n",
      "     nchunchunchunchunchunchunchunchunchunchunchunchunch    \n",
      "       unchunchunchunchunchunchunchunchunchunchunchunc      \n",
      "         hunchunchunchunchunchunchunchunchunchunchun        \n",
      "           chunchunchunchunchunchunchunchunchunchu          \n",
      "             nchunchunchunchunchunchunchunchunch            \n",
      "                nchunchunchunchunchunchunchun               \n",
      "                   nchunchunchunchunchunch                  \n",
      "                      nchunchunchunchun                     \n",
      "                         nchunchunch                        \n",
      "                             chu                            \n",
      "                              u                             \n",
      "                                                            \n",
      "                                                            \n",
      "                                                            \n",
      "                                                            \n"
     ]
    }
   ],
   "source": [
    "print('\\n'.join([''.join([('chunmei'[(x-y)%4]if((x*0.04)**2+(y*0.1)**2-1)**3-(x*0.05\\\n",
    "\t)**2*(y*0.1)**3<=0 else' ')for x in range(-30,30)])for y in range(15,-15,-1)]))"
   ]
  },
  {
   "cell_type": "code",
   "execution_count": 26,
   "metadata": {},
   "outputs": [
    {
     "name": "stdout",
     "output_type": "stream",
     "text": [
      "                                                            \n",
      "                                                            \n",
      "            ON!PYTH                       !PYTHON           \n",
      "       PYTHON!PYTHON!PYTH           YTHON!PYTHON!PYTHO      \n",
      "    N!PYTHON!PYTHON!PYTHON!PY   N!PYTHON!PYTHON!PYTHON!PY   \n",
      "   N!PYTHON!PYTHON!PYTHON!PYTHON!PYTHON!PYTHON!PYTHON!PYTH  \n",
      "  N!PYTHON!PYTHON!PYTHON!PYTHON!PYTHON!PYTHON!PYTHON!PYTHON \n",
      " N!PYTHON!PYTHON!PYTHON!PYTHON!PYTHON!PYTHON!PYTHON!PYTHON!P\n",
      " !PYTHON!PYTHON!PYTHON!PYTHON!PYTHON!PYTHON!PYTHON!PYTHON!PY\n",
      " PYTHON!PYTHON!PYTHON!PYTHON!PYTHON!PYTHON!PYTHON!PYTHON!PYT\n",
      " YTHON!PYTHON!PYTHON!PYTHON!PYTHON!PYTHON!PYTHON!PYTHON!PYTH\n",
      " THON!PYTHON!PYTHON!PYTHON!PYTHON!PYTHON!PYTHON!PYTHON!PYTHO\n",
      "  ON!PYTHON!PYTHON!PYTHON!PYTHON!PYTHON!PYTHON!PYTHON!PYTHO \n",
      "   !PYTHON!PYTHON!PYTHON!PYTHON!PYTHON!PYTHON!PYTHON!PYTHO  \n",
      "    YTHON!PYTHON!PYTHON!PYTHON!PYTHON!PYTHON!PYTHON!PYTHO   \n",
      "     HON!PYTHON!PYTHON!PYTHON!PYTHON!PYTHON!PYTHON!PYTHO    \n",
      "       !PYTHON!PYTHON!PYTHON!PYTHON!PYTHON!PYTHON!PYTH      \n",
      "         THON!PYTHON!PYTHON!PYTHON!PYTHON!PYTHON!PYT        \n",
      "           N!PYTHON!PYTHON!PYTHON!PYTHON!PYTHON!PY          \n",
      "             YTHON!PYTHON!PYTHON!PYTHON!PYTHON!P            \n",
      "                N!PYTHON!PYTHON!PYTHON!PYTHON               \n",
      "                   THON!PYTHON!PYTHON!PYTH                  \n",
      "                      !PYTHON!PYTHON!PY                     \n",
      "                         HON!PYTHON!                        \n",
      "                             YTH                            \n",
      "                              H                             \n",
      "                                                            \n",
      "                                                            \n",
      "                                                            \n",
      "                                                            \n"
     ]
    }
   ],
   "source": [
    "print('\\n'.join([''.join([('PYTHON!'[(x-y)%7]if((x*0.04)**2+(y*0.1)**2-1)**3-(x*0.05)**2*(y*0.1)**3<=0 else' ')for x in range(-30,30)])for y in range(15,-15,-1)]))"
   ]
  },
  {
   "cell_type": "code",
   "execution_count": 14,
   "metadata": {},
   "outputs": [
    {
     "name": "stdout",
     "output_type": "stream",
     "text": [
      "                                                                                *                   \n",
      "                                                                                                    \n",
      "                                                                                                    \n",
      "                                                                          **                        \n",
      "                                                                     ***********                    \n",
      "                                                                    ************                    \n",
      "                                                                      *********                     \n",
      "                                                            *    * ************  * *                \n",
      "                                                    ****** * *************************** *          \n",
      "                                                    *************************************** *****   \n",
      "                                                     *******************************************    \n",
      "                                               *** ******************************************** *   \n",
      "                                                **************************************************  \n",
      "                                             *******************************************************\n",
      "                      *        *              ***************************************************** \n",
      "                     **** ******* *          *******************************************************\n",
      "                      *****************     ******************************************************* \n",
      "                   *********************** *********************************************************\n",
      "                   *********************** ******************************************************** \n",
      "             **** ********************************************************************************  \n",
      "*********************************************************************************************       \n",
      "             **** ********************************************************************************  \n",
      "                   *********************** ******************************************************** \n",
      "                   *********************** *********************************************************\n",
      "                      *****************     ******************************************************* \n",
      "                     **** ******* *          *******************************************************\n",
      "                      *        *              ***************************************************** \n",
      "                                             *******************************************************\n",
      "                                                **************************************************  \n",
      "                                               *** ******************************************** *   \n",
      "                                                     *******************************************    \n",
      "                                                    *************************************** *****   \n",
      "                                                    ****** * *************************** *          \n",
      "                                                            *    * ************  * *                \n",
      "                                                                      *********                     \n",
      "                                                                    ************                    \n",
      "                                                                     ***********                    \n",
      "                                                                          **                        \n",
      "                                                                                                    \n",
      "                                                                                                    \n"
     ]
    }
   ],
   "source": [
    "print('\\n'.join([''.join(['*'if abs((lambda a:lambda z,c,n:a(a,z,c,n))(lambda s,z,c,n:z if n==0 else s(s,z*z+c,c,n-1))(0,0.02*x+0.05j*y,40))<2 else' 'for x in range(-80,20)])for y in range(-20,20)]))"
   ]
  },
  {
   "cell_type": "code",
   "execution_count": 22,
   "metadata": {},
   "outputs": [
    {
     "name": "stdout",
     "output_type": "stream",
     "text": [
      "                                                            \n",
      "                                                            \n",
      "            !LOVE!L                       !LOVE!L           \n",
      "       LOVE!LOVE!LOVE!LOV           !LOVE!LOVE!LOVE!LO      \n",
      "    E!LOVE!LOVE!LOVE!LOVE!LOV   OVE!LOVE!LOVE!LOVE!LOVE!L   \n",
      "   E!LOVE!LOVE!LOVE!LOVE!LOVE!LOVE!LOVE!LOVE!LOVE!LOVE!LOV  \n",
      "  E!LOVE!LOVE!LOVE!LOVE!LOVE!LOVE!LOVE!LOVE!LOVE!LOVE!LOVE! \n",
      " E!LOVE!LOVE!LOVE!LOVE!LOVE!LOVE!LOVE!LOVE!LOVE!LOVE!LOVE!LO\n",
      " !LOVE!LOVE!LOVE!LOVE!LOVE!LOVE!LOVE!LOVE!LOVE!LOVE!LOVE!LOV\n",
      " LOVE!LOVE!LOVE!LOVE!LOVE!LOVE!LOVE!LOVE!LOVE!LOVE!LOVE!LOVE\n",
      " OVE!LOVE!LOVE!LOVE!LOVE!LOVE!LOVE!LOVE!LOVE!LOVE!LOVE!LOVE!\n",
      " VE!LOVE!LOVE!LOVE!LOVE!LOVE!LOVE!LOVE!LOVE!LOVE!LOVE!LOVE!L\n",
      "  !LOVE!LOVE!LOVE!LOVE!LOVE!LOVE!LOVE!LOVE!LOVE!LOVE!LOVE!L \n",
      "   OVE!LOVE!LOVE!LOVE!LOVE!LOVE!LOVE!LOVE!LOVE!LOVE!LOVE!L  \n",
      "    E!LOVE!LOVE!LOVE!LOVE!LOVE!LOVE!LOVE!LOVE!LOVE!LOVE!L   \n",
      "     LOVE!LOVE!LOVE!LOVE!LOVE!LOVE!LOVE!LOVE!LOVE!LOVE!L    \n",
      "       E!LOVE!LOVE!LOVE!LOVE!LOVE!LOVE!LOVE!LOVE!LOVE!      \n",
      "         OVE!LOVE!LOVE!LOVE!LOVE!LOVE!LOVE!LOVE!LOVE        \n",
      "           !LOVE!LOVE!LOVE!LOVE!LOVE!LOVE!LOVE!LOV          \n",
      "             VE!LOVE!LOVE!LOVE!LOVE!LOVE!LOVE!LO            \n",
      "                OVE!LOVE!LOVE!LOVE!LOVE!LOVE!               \n",
      "                   LOVE!LOVE!LOVE!LOVE!LOV                  \n",
      "                      !LOVE!LOVE!LOVE!L                     \n",
      "                         E!LOVE!LOVE                        \n",
      "                             E!L                            \n",
      "                              L                             \n",
      "                                                            \n",
      "                                                            \n",
      "                                                            \n",
      "                                                            \n"
     ]
    }
   ],
   "source": [
    "str1 = ''\n",
    "for y in range(15,-15,-1):\n",
    "    for x in range(-30,30):\n",
    "        str1 += 'LOVE!'[(x-y)%5]if((x*0.04)**2+(y*0.1)**2-1)**3-(x*0.05)**2*(y*0.1)**3<=0 else' '\n",
    "    print (str1)\n",
    "    str1 = ''"
   ]
  },
  {
   "cell_type": "code",
   "execution_count": 17,
   "metadata": {},
   "outputs": [
    {
     "name": "stdout",
     "output_type": "stream",
     "text": [
      "\u001b[1;31;40m I love chunmei! \u001b[0m\n"
     ]
    }
   ],
   "source": [
    "print(\"\\033[1;31;40m I love chunmei! \\033[0m\")"
   ]
  },
  {
   "cell_type": "code",
   "execution_count": null,
   "metadata": {
    "collapsed": true
   },
   "outputs": [],
   "source": []
  }
 ],
 "metadata": {
  "kernelspec": {
   "display_name": "Python 3",
   "language": "python",
   "name": "python3"
  },
  "language_info": {
   "codemirror_mode": {
    "name": "ipython",
    "version": 3
   },
   "file_extension": ".py",
   "mimetype": "text/x-python",
   "name": "python",
   "nbconvert_exporter": "python",
   "pygments_lexer": "ipython3",
   "version": "3.6.3"
  }
 },
 "nbformat": 4,
 "nbformat_minor": 2
}
