{
 "cells": [
  {
   "cell_type": "code",
   "execution_count": 5,
   "metadata": {},
   "outputs": [
    {
     "name": "stdout",
     "output_type": "stream",
     "text": [
      "请输入你家狗狗的年龄：2\n",
      "\n",
      "相当于22岁的人。\n",
      "点击enter键退出1\n"
     ]
    },
    {
     "data": {
      "text/plain": [
       "'1'"
      ]
     },
     "execution_count": 5,
     "metadata": {},
     "output_type": "execute_result"
    }
   ],
   "source": [
    "age = int(input(\"请输入你家狗狗的年龄：\"))\n",
    "print(\"\")\n",
    "if age<0:\n",
    "    print(\"你是在逗我吧！\")\n",
    "elif age == 1:\n",
    "    print(\"相当于14岁的人。\")\n",
    "elif age == 2:\n",
    "    print(\"相当于22岁的人。\")\n",
    "elif age >2: \n",
    "    human = 22+(age-2)*5\n",
    "    print(\"对应人类年龄：\",human)\n",
    "###退出提示\n",
    "input(\"点击enter键退出\")"
   ]
  },
  {
   "cell_type": "code",
   "execution_count": null,
   "metadata": {
    "collapsed": true
   },
   "outputs": [],
   "source": []
  }
 ],
 "metadata": {
  "kernelspec": {
   "display_name": "Python 3",
   "language": "python",
   "name": "python3"
  },
  "language_info": {
   "codemirror_mode": {
    "name": "ipython",
    "version": 3
   },
   "file_extension": ".py",
   "mimetype": "text/x-python",
   "name": "python",
   "nbconvert_exporter": "python",
   "pygments_lexer": "ipython3",
   "version": "3.6.3"
  }
 },
 "nbformat": 4,
 "nbformat_minor": 2
}
