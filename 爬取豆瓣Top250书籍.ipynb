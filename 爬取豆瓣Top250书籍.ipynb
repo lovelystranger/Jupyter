{
 "cells": [
  {
   "cell_type": "code",
   "execution_count": 35,
   "metadata": {},
   "outputs": [
    {
     "ename": "IndentationError",
     "evalue": "expected an indented block (<ipython-input-35-fed033a6e86e>, line 7)",
     "output_type": "error",
     "traceback": [
      "\u001b[1;36m  File \u001b[1;32m\"<ipython-input-35-fed033a6e86e>\"\u001b[1;36m, line \u001b[1;32m7\u001b[0m\n\u001b[1;33m    url = 'https://www.imdb.com/title/tt0114369/'\u001b[0m\n\u001b[1;37m      ^\u001b[0m\n\u001b[1;31mIndentationError\u001b[0m\u001b[1;31m:\u001b[0m expected an indented block\n"
     ]
    }
   ],
   "source": [
    "from lxml import etree \n",
    "import requests\n",
    "import time\n",
    "\n",
    "with open('/Users/dell/Desktop/dianying.txt','w',encoding='utf-8') as f:\n",
    "\n",
    "url = 'https://www.imdb.com/title/tt0114369/'\n",
    "data = requests.get(url).text\n",
    "\n",
    "s=etree.HTML(data)\n",
    "file = s.xpath('//*[@id=\"titleStoryLine\"]/div[1]/p/text()')\n",
    "\n",
    "f.write(\"{}\".format(file))\n",
    "\n",
    "\n",
    "  \n",
    "\n",
    "     "
   ]
  },
  {
   "cell_type": "code",
   "execution_count": 33,
   "metadata": {},
   "outputs": [],
   "source": [
    "from lxml import etree\n",
    "import requests\n",
    "import time\n",
    "\n",
    "with open('/Users/dell/Desktop/xzzf.txt','w',encoding='utf-8') as f:\n",
    "    for a in range(1,6):\n",
    "        url = 'http://cd.xiaozhu.com/search-duanzufang-p{}-0/'.format(a)\n",
    "        data = requests.get(url).text\n",
    "\n",
    "        s=etree.HTML(data)\n",
    "        file=s.xpath('//*[@id=\"page_list\"]/ul/li')\n",
    "        time.sleep(3)\n",
    "\n",
    "        for div in file:\n",
    "            title=div.xpath(\"./div[2]/div/a/span/text()\")[0]\n",
    "            price=div.xpath(\"./div[2]/span[1]/i/text()\")[0]\n",
    "            scrible=div.xpath(\"./div[2]/div/em/text()\")[0].strip()\n",
    "            pic=div.xpath(\"./a/img/@lazy_src\")[0]\n",
    "\n",
    "            f.write(\"{},{},{},{}\\n\".format(title,price,scrible,pic))"
   ]
  },
  {
   "cell_type": "code",
   "execution_count": null,
   "metadata": {
    "collapsed": true
   },
   "outputs": [],
   "source": []
  }
 ],
 "metadata": {
  "kernelspec": {
   "display_name": "Python 3",
   "language": "python",
   "name": "python3"
  },
  "language_info": {
   "codemirror_mode": {
    "name": "ipython",
    "version": 3
   },
   "file_extension": ".py",
   "mimetype": "text/x-python",
   "name": "python",
   "nbconvert_exporter": "python",
   "pygments_lexer": "ipython3",
   "version": "3.6.3"
  }
 },
 "nbformat": 4,
 "nbformat_minor": 2
}
